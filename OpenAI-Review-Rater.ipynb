{
 "cells": [
  {
   "cell_type": "code",
   "execution_count": 4,
   "id": "f884ea68-e2b8-4dd5-a7f4-fce81cc59687",
   "metadata": {},
   "outputs": [
    {
     "name": "stdout",
     "output_type": "stream",
     "text": [
      "Done!\n"
     ]
    }
   ],
   "source": [
    "import openai\n",
    "import csv\n",
    "import os\n",
    "\n",
    "# set up OpenAI API\n",
    "openai.api_key = \"Your OpenAI API key\"\n",
    "\n",
    "# define function to evaluate sentiment of a review text\n",
    "def evaluate_sentiment(review_text):\n",
    "    response = openai.Completion.create(\n",
    "      engine=\"text-davinci-002\",\n",
    "      prompt=f\"Please rate the following review on a scale of 1-10, with 10 being the most enthusiastic and 1 being the most negative:\\n\\n{review_text}\\n\\nRating:\",\n",
    "      temperature=0,\n",
    "      max_tokens=1,\n",
    "      n=1,\n",
    "      stop=None,\n",
    "      frequency_penalty=0,\n",
    "      presence_penalty=0\n",
    "    )\n",
    "\n",
    "    rating = int(response.choices[0].text.strip())\n",
    "\n",
    "    return rating\n",
    "\n",
    "# set up file paths\n",
    "input_file_path = \"D:\\Download\\Welltory Test_Python Developer_App Reviews - Data.csv\"\n",
    "output_file_path = os.path.splitext(input_file_path)[0] + \"_analyzed.csv\"\n",
    "\n",
    "# read in input file\n",
    "with open(input_file_path, newline='') as input_file:\n",
    "    reader = csv.DictReader(input_file)\n",
    "    rows = list(reader)\n",
    "\n",
    "# evaluate sentiment of each review and add to rows\n",
    "for row in rows:\n",
    "    row[\"rate\"] = evaluate_sentiment(row[\"review text\"])\n",
    "\n",
    "# sort rows by rating in descending order\n",
    "rows.sort(key=lambda row: row[\"rate\"], reverse=True)\n",
    "\n",
    "# write rows to output file\n",
    "with open(output_file_path, 'w', newline='') as output_file:\n",
    "    writer = csv.DictWriter(output_file, fieldnames=reader.fieldnames)\n",
    "    writer.writeheader()\n",
    "    writer.writerows(rows)\n",
    "    \n",
    "print(\"Done!\")\n"
   ]
  },
  {
   "cell_type": "code",
   "execution_count": null,
   "id": "0afba3c3-c5fa-4092-a0b8-8e7bdf374d23",
   "metadata": {},
   "outputs": [],
   "source": []
  }
 ],
 "metadata": {
  "kernelspec": {
   "display_name": "Python 3 (ipykernel)",
   "language": "python",
   "name": "python3"
  },
  "language_info": {
   "codemirror_mode": {
    "name": "ipython",
    "version": 3
   },
   "file_extension": ".py",
   "mimetype": "text/x-python",
   "name": "python",
   "nbconvert_exporter": "python",
   "pygments_lexer": "ipython3",
   "version": "3.10.6"
  }
 },
 "nbformat": 4,
 "nbformat_minor": 5
}
